{
 "cells": [
  {
   "cell_type": "markdown",
   "id": "7db1839b",
   "metadata": {},
   "source": [
    "#### Name: \n",
    "Heart Health Classifier\n",
    "#### Author: \n",
    "Sharome Burton\n",
    "#### Date:\n",
    "07/15/2021\n",
    "#### Description: \n",
    "Machine learning model used to classify whether a patient has heart disease based on structured data"
   ]
  },
  {
   "cell_type": "code",
   "execution_count": null,
   "id": "08fa6bbb",
   "metadata": {},
   "outputs": [],
   "source": []
  },
  {
   "cell_type": "code",
   "execution_count": null,
   "id": "2312a44c",
   "metadata": {},
   "outputs": [],
   "source": []
  }
 ],
 "metadata": {
  "kernelspec": {
   "display_name": "Python 3",
   "language": "python",
   "name": "python3"
  },
  "language_info": {
   "codemirror_mode": {
    "name": "ipython",
    "version": 3
   },
   "file_extension": ".py",
   "mimetype": "text/x-python",
   "name": "python",
   "nbconvert_exporter": "python",
   "pygments_lexer": "ipython3",
   "version": "3.9.5"
  }
 },
 "nbformat": 4,
 "nbformat_minor": 5
}
